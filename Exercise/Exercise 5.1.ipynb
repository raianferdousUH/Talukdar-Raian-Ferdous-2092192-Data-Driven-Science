{
  "nbformat": 4,
  "nbformat_minor": 0,
  "metadata": {
    "colab": {
      "provenance": []
    },
    "kernelspec": {
      "name": "python3",
      "display_name": "Python 3"
    },
    "language_info": {
      "name": "python"
    },
    "widgets": {
      "application/vnd.jupyter.widget-state+json": {
        "c9ae3051d7764afab7f2f1dfeb110dc8": {
          "model_module": "@jupyter-widgets/controls",
          "model_name": "HBoxModel",
          "model_module_version": "1.5.0",
          "state": {
            "_dom_classes": [],
            "_model_module": "@jupyter-widgets/controls",
            "_model_module_version": "1.5.0",
            "_model_name": "HBoxModel",
            "_view_count": null,
            "_view_module": "@jupyter-widgets/controls",
            "_view_module_version": "1.5.0",
            "_view_name": "HBoxView",
            "box_style": "",
            "children": [
              "IPY_MODEL_3dc3b8d2d0b640ab8318e9292be3be45",
              "IPY_MODEL_cc804faebfa24ea297f70d34d0a46f33",
              "IPY_MODEL_21b18f187e0c421691beb1142de7c1e0"
            ],
            "layout": "IPY_MODEL_a266d98402b340e79c946cd89a80016e"
          }
        },
        "3dc3b8d2d0b640ab8318e9292be3be45": {
          "model_module": "@jupyter-widgets/controls",
          "model_name": "HTMLModel",
          "model_module_version": "1.5.0",
          "state": {
            "_dom_classes": [],
            "_model_module": "@jupyter-widgets/controls",
            "_model_module_version": "1.5.0",
            "_model_name": "HTMLModel",
            "_view_count": null,
            "_view_module": "@jupyter-widgets/controls",
            "_view_module_version": "1.5.0",
            "_view_name": "HTMLView",
            "description": "",
            "description_tooltip": null,
            "layout": "IPY_MODEL_e015b02cbf5b489aa0efeef4b9a498c9",
            "placeholder": "​",
            "style": "IPY_MODEL_2152af0a8f6744a889fe53ad5bf6cd90",
            "value": "100%"
          }
        },
        "cc804faebfa24ea297f70d34d0a46f33": {
          "model_module": "@jupyter-widgets/controls",
          "model_name": "FloatProgressModel",
          "model_module_version": "1.5.0",
          "state": {
            "_dom_classes": [],
            "_model_module": "@jupyter-widgets/controls",
            "_model_module_version": "1.5.0",
            "_model_name": "FloatProgressModel",
            "_view_count": null,
            "_view_module": "@jupyter-widgets/controls",
            "_view_module_version": "1.5.0",
            "_view_name": "ProgressView",
            "bar_style": "success",
            "description": "",
            "description_tooltip": null,
            "layout": "IPY_MODEL_b42ed1890e2c46f8a12d224d320695ff",
            "max": 9912422,
            "min": 0,
            "orientation": "horizontal",
            "style": "IPY_MODEL_f5008dc64cde44a391c39257a2bbb891",
            "value": 9912422
          }
        },
        "21b18f187e0c421691beb1142de7c1e0": {
          "model_module": "@jupyter-widgets/controls",
          "model_name": "HTMLModel",
          "model_module_version": "1.5.0",
          "state": {
            "_dom_classes": [],
            "_model_module": "@jupyter-widgets/controls",
            "_model_module_version": "1.5.0",
            "_model_name": "HTMLModel",
            "_view_count": null,
            "_view_module": "@jupyter-widgets/controls",
            "_view_module_version": "1.5.0",
            "_view_name": "HTMLView",
            "description": "",
            "description_tooltip": null,
            "layout": "IPY_MODEL_283b020a65a4468e95cd978fb989b78f",
            "placeholder": "​",
            "style": "IPY_MODEL_5588a0209e18406496d91290cfddb745",
            "value": " 9912422/9912422 [00:00&lt;00:00, 16213565.63it/s]"
          }
        },
        "a266d98402b340e79c946cd89a80016e": {
          "model_module": "@jupyter-widgets/base",
          "model_name": "LayoutModel",
          "model_module_version": "1.2.0",
          "state": {
            "_model_module": "@jupyter-widgets/base",
            "_model_module_version": "1.2.0",
            "_model_name": "LayoutModel",
            "_view_count": null,
            "_view_module": "@jupyter-widgets/base",
            "_view_module_version": "1.2.0",
            "_view_name": "LayoutView",
            "align_content": null,
            "align_items": null,
            "align_self": null,
            "border": null,
            "bottom": null,
            "display": null,
            "flex": null,
            "flex_flow": null,
            "grid_area": null,
            "grid_auto_columns": null,
            "grid_auto_flow": null,
            "grid_auto_rows": null,
            "grid_column": null,
            "grid_gap": null,
            "grid_row": null,
            "grid_template_areas": null,
            "grid_template_columns": null,
            "grid_template_rows": null,
            "height": null,
            "justify_content": null,
            "justify_items": null,
            "left": null,
            "margin": null,
            "max_height": null,
            "max_width": null,
            "min_height": null,
            "min_width": null,
            "object_fit": null,
            "object_position": null,
            "order": null,
            "overflow": null,
            "overflow_x": null,
            "overflow_y": null,
            "padding": null,
            "right": null,
            "top": null,
            "visibility": null,
            "width": null
          }
        },
        "e015b02cbf5b489aa0efeef4b9a498c9": {
          "model_module": "@jupyter-widgets/base",
          "model_name": "LayoutModel",
          "model_module_version": "1.2.0",
          "state": {
            "_model_module": "@jupyter-widgets/base",
            "_model_module_version": "1.2.0",
            "_model_name": "LayoutModel",
            "_view_count": null,
            "_view_module": "@jupyter-widgets/base",
            "_view_module_version": "1.2.0",
            "_view_name": "LayoutView",
            "align_content": null,
            "align_items": null,
            "align_self": null,
            "border": null,
            "bottom": null,
            "display": null,
            "flex": null,
            "flex_flow": null,
            "grid_area": null,
            "grid_auto_columns": null,
            "grid_auto_flow": null,
            "grid_auto_rows": null,
            "grid_column": null,
            "grid_gap": null,
            "grid_row": null,
            "grid_template_areas": null,
            "grid_template_columns": null,
            "grid_template_rows": null,
            "height": null,
            "justify_content": null,
            "justify_items": null,
            "left": null,
            "margin": null,
            "max_height": null,
            "max_width": null,
            "min_height": null,
            "min_width": null,
            "object_fit": null,
            "object_position": null,
            "order": null,
            "overflow": null,
            "overflow_x": null,
            "overflow_y": null,
            "padding": null,
            "right": null,
            "top": null,
            "visibility": null,
            "width": null
          }
        },
        "2152af0a8f6744a889fe53ad5bf6cd90": {
          "model_module": "@jupyter-widgets/controls",
          "model_name": "DescriptionStyleModel",
          "model_module_version": "1.5.0",
          "state": {
            "_model_module": "@jupyter-widgets/controls",
            "_model_module_version": "1.5.0",
            "_model_name": "DescriptionStyleModel",
            "_view_count": null,
            "_view_module": "@jupyter-widgets/base",
            "_view_module_version": "1.2.0",
            "_view_name": "StyleView",
            "description_width": ""
          }
        },
        "b42ed1890e2c46f8a12d224d320695ff": {
          "model_module": "@jupyter-widgets/base",
          "model_name": "LayoutModel",
          "model_module_version": "1.2.0",
          "state": {
            "_model_module": "@jupyter-widgets/base",
            "_model_module_version": "1.2.0",
            "_model_name": "LayoutModel",
            "_view_count": null,
            "_view_module": "@jupyter-widgets/base",
            "_view_module_version": "1.2.0",
            "_view_name": "LayoutView",
            "align_content": null,
            "align_items": null,
            "align_self": null,
            "border": null,
            "bottom": null,
            "display": null,
            "flex": null,
            "flex_flow": null,
            "grid_area": null,
            "grid_auto_columns": null,
            "grid_auto_flow": null,
            "grid_auto_rows": null,
            "grid_column": null,
            "grid_gap": null,
            "grid_row": null,
            "grid_template_areas": null,
            "grid_template_columns": null,
            "grid_template_rows": null,
            "height": null,
            "justify_content": null,
            "justify_items": null,
            "left": null,
            "margin": null,
            "max_height": null,
            "max_width": null,
            "min_height": null,
            "min_width": null,
            "object_fit": null,
            "object_position": null,
            "order": null,
            "overflow": null,
            "overflow_x": null,
            "overflow_y": null,
            "padding": null,
            "right": null,
            "top": null,
            "visibility": null,
            "width": null
          }
        },
        "f5008dc64cde44a391c39257a2bbb891": {
          "model_module": "@jupyter-widgets/controls",
          "model_name": "ProgressStyleModel",
          "model_module_version": "1.5.0",
          "state": {
            "_model_module": "@jupyter-widgets/controls",
            "_model_module_version": "1.5.0",
            "_model_name": "ProgressStyleModel",
            "_view_count": null,
            "_view_module": "@jupyter-widgets/base",
            "_view_module_version": "1.2.0",
            "_view_name": "StyleView",
            "bar_color": null,
            "description_width": ""
          }
        },
        "283b020a65a4468e95cd978fb989b78f": {
          "model_module": "@jupyter-widgets/base",
          "model_name": "LayoutModel",
          "model_module_version": "1.2.0",
          "state": {
            "_model_module": "@jupyter-widgets/base",
            "_model_module_version": "1.2.0",
            "_model_name": "LayoutModel",
            "_view_count": null,
            "_view_module": "@jupyter-widgets/base",
            "_view_module_version": "1.2.0",
            "_view_name": "LayoutView",
            "align_content": null,
            "align_items": null,
            "align_self": null,
            "border": null,
            "bottom": null,
            "display": null,
            "flex": null,
            "flex_flow": null,
            "grid_area": null,
            "grid_auto_columns": null,
            "grid_auto_flow": null,
            "grid_auto_rows": null,
            "grid_column": null,
            "grid_gap": null,
            "grid_row": null,
            "grid_template_areas": null,
            "grid_template_columns": null,
            "grid_template_rows": null,
            "height": null,
            "justify_content": null,
            "justify_items": null,
            "left": null,
            "margin": null,
            "max_height": null,
            "max_width": null,
            "min_height": null,
            "min_width": null,
            "object_fit": null,
            "object_position": null,
            "order": null,
            "overflow": null,
            "overflow_x": null,
            "overflow_y": null,
            "padding": null,
            "right": null,
            "top": null,
            "visibility": null,
            "width": null
          }
        },
        "5588a0209e18406496d91290cfddb745": {
          "model_module": "@jupyter-widgets/controls",
          "model_name": "DescriptionStyleModel",
          "model_module_version": "1.5.0",
          "state": {
            "_model_module": "@jupyter-widgets/controls",
            "_model_module_version": "1.5.0",
            "_model_name": "DescriptionStyleModel",
            "_view_count": null,
            "_view_module": "@jupyter-widgets/base",
            "_view_module_version": "1.2.0",
            "_view_name": "StyleView",
            "description_width": ""
          }
        },
        "b8f72465ead24bf68c9380374e55ef1c": {
          "model_module": "@jupyter-widgets/controls",
          "model_name": "HBoxModel",
          "model_module_version": "1.5.0",
          "state": {
            "_dom_classes": [],
            "_model_module": "@jupyter-widgets/controls",
            "_model_module_version": "1.5.0",
            "_model_name": "HBoxModel",
            "_view_count": null,
            "_view_module": "@jupyter-widgets/controls",
            "_view_module_version": "1.5.0",
            "_view_name": "HBoxView",
            "box_style": "",
            "children": [
              "IPY_MODEL_a1dde6afc0b442f781e305ea7529b9fe",
              "IPY_MODEL_2952cdc9f9964dd18e57512ebaaff6f1",
              "IPY_MODEL_370e8b741a6548e7a784e4ad9a0c25e9"
            ],
            "layout": "IPY_MODEL_f87bebfeec024a65b7d4e678ffc074dc"
          }
        },
        "a1dde6afc0b442f781e305ea7529b9fe": {
          "model_module": "@jupyter-widgets/controls",
          "model_name": "HTMLModel",
          "model_module_version": "1.5.0",
          "state": {
            "_dom_classes": [],
            "_model_module": "@jupyter-widgets/controls",
            "_model_module_version": "1.5.0",
            "_model_name": "HTMLModel",
            "_view_count": null,
            "_view_module": "@jupyter-widgets/controls",
            "_view_module_version": "1.5.0",
            "_view_name": "HTMLView",
            "description": "",
            "description_tooltip": null,
            "layout": "IPY_MODEL_81743a6cb8e24dab8e8ace4b1a434adb",
            "placeholder": "​",
            "style": "IPY_MODEL_0327323a9c7446c9be2bf9a1e4685ce4",
            "value": "100%"
          }
        },
        "2952cdc9f9964dd18e57512ebaaff6f1": {
          "model_module": "@jupyter-widgets/controls",
          "model_name": "FloatProgressModel",
          "model_module_version": "1.5.0",
          "state": {
            "_dom_classes": [],
            "_model_module": "@jupyter-widgets/controls",
            "_model_module_version": "1.5.0",
            "_model_name": "FloatProgressModel",
            "_view_count": null,
            "_view_module": "@jupyter-widgets/controls",
            "_view_module_version": "1.5.0",
            "_view_name": "ProgressView",
            "bar_style": "success",
            "description": "",
            "description_tooltip": null,
            "layout": "IPY_MODEL_904d0e3b15de4c029e5c7aa06653be63",
            "max": 28881,
            "min": 0,
            "orientation": "horizontal",
            "style": "IPY_MODEL_3f15eb6158a14bd68a8c4b46421a2be9",
            "value": 28881
          }
        },
        "370e8b741a6548e7a784e4ad9a0c25e9": {
          "model_module": "@jupyter-widgets/controls",
          "model_name": "HTMLModel",
          "model_module_version": "1.5.0",
          "state": {
            "_dom_classes": [],
            "_model_module": "@jupyter-widgets/controls",
            "_model_module_version": "1.5.0",
            "_model_name": "HTMLModel",
            "_view_count": null,
            "_view_module": "@jupyter-widgets/controls",
            "_view_module_version": "1.5.0",
            "_view_name": "HTMLView",
            "description": "",
            "description_tooltip": null,
            "layout": "IPY_MODEL_e15dc01f8ea746ffa3a4e4a3bf127487",
            "placeholder": "​",
            "style": "IPY_MODEL_d3be984725424f85ac09e2239f39a5bb",
            "value": " 28881/28881 [00:00&lt;00:00, 906962.26it/s]"
          }
        },
        "f87bebfeec024a65b7d4e678ffc074dc": {
          "model_module": "@jupyter-widgets/base",
          "model_name": "LayoutModel",
          "model_module_version": "1.2.0",
          "state": {
            "_model_module": "@jupyter-widgets/base",
            "_model_module_version": "1.2.0",
            "_model_name": "LayoutModel",
            "_view_count": null,
            "_view_module": "@jupyter-widgets/base",
            "_view_module_version": "1.2.0",
            "_view_name": "LayoutView",
            "align_content": null,
            "align_items": null,
            "align_self": null,
            "border": null,
            "bottom": null,
            "display": null,
            "flex": null,
            "flex_flow": null,
            "grid_area": null,
            "grid_auto_columns": null,
            "grid_auto_flow": null,
            "grid_auto_rows": null,
            "grid_column": null,
            "grid_gap": null,
            "grid_row": null,
            "grid_template_areas": null,
            "grid_template_columns": null,
            "grid_template_rows": null,
            "height": null,
            "justify_content": null,
            "justify_items": null,
            "left": null,
            "margin": null,
            "max_height": null,
            "max_width": null,
            "min_height": null,
            "min_width": null,
            "object_fit": null,
            "object_position": null,
            "order": null,
            "overflow": null,
            "overflow_x": null,
            "overflow_y": null,
            "padding": null,
            "right": null,
            "top": null,
            "visibility": null,
            "width": null
          }
        },
        "81743a6cb8e24dab8e8ace4b1a434adb": {
          "model_module": "@jupyter-widgets/base",
          "model_name": "LayoutModel",
          "model_module_version": "1.2.0",
          "state": {
            "_model_module": "@jupyter-widgets/base",
            "_model_module_version": "1.2.0",
            "_model_name": "LayoutModel",
            "_view_count": null,
            "_view_module": "@jupyter-widgets/base",
            "_view_module_version": "1.2.0",
            "_view_name": "LayoutView",
            "align_content": null,
            "align_items": null,
            "align_self": null,
            "border": null,
            "bottom": null,
            "display": null,
            "flex": null,
            "flex_flow": null,
            "grid_area": null,
            "grid_auto_columns": null,
            "grid_auto_flow": null,
            "grid_auto_rows": null,
            "grid_column": null,
            "grid_gap": null,
            "grid_row": null,
            "grid_template_areas": null,
            "grid_template_columns": null,
            "grid_template_rows": null,
            "height": null,
            "justify_content": null,
            "justify_items": null,
            "left": null,
            "margin": null,
            "max_height": null,
            "max_width": null,
            "min_height": null,
            "min_width": null,
            "object_fit": null,
            "object_position": null,
            "order": null,
            "overflow": null,
            "overflow_x": null,
            "overflow_y": null,
            "padding": null,
            "right": null,
            "top": null,
            "visibility": null,
            "width": null
          }
        },
        "0327323a9c7446c9be2bf9a1e4685ce4": {
          "model_module": "@jupyter-widgets/controls",
          "model_name": "DescriptionStyleModel",
          "model_module_version": "1.5.0",
          "state": {
            "_model_module": "@jupyter-widgets/controls",
            "_model_module_version": "1.5.0",
            "_model_name": "DescriptionStyleModel",
            "_view_count": null,
            "_view_module": "@jupyter-widgets/base",
            "_view_module_version": "1.2.0",
            "_view_name": "StyleView",
            "description_width": ""
          }
        },
        "904d0e3b15de4c029e5c7aa06653be63": {
          "model_module": "@jupyter-widgets/base",
          "model_name": "LayoutModel",
          "model_module_version": "1.2.0",
          "state": {
            "_model_module": "@jupyter-widgets/base",
            "_model_module_version": "1.2.0",
            "_model_name": "LayoutModel",
            "_view_count": null,
            "_view_module": "@jupyter-widgets/base",
            "_view_module_version": "1.2.0",
            "_view_name": "LayoutView",
            "align_content": null,
            "align_items": null,
            "align_self": null,
            "border": null,
            "bottom": null,
            "display": null,
            "flex": null,
            "flex_flow": null,
            "grid_area": null,
            "grid_auto_columns": null,
            "grid_auto_flow": null,
            "grid_auto_rows": null,
            "grid_column": null,
            "grid_gap": null,
            "grid_row": null,
            "grid_template_areas": null,
            "grid_template_columns": null,
            "grid_template_rows": null,
            "height": null,
            "justify_content": null,
            "justify_items": null,
            "left": null,
            "margin": null,
            "max_height": null,
            "max_width": null,
            "min_height": null,
            "min_width": null,
            "object_fit": null,
            "object_position": null,
            "order": null,
            "overflow": null,
            "overflow_x": null,
            "overflow_y": null,
            "padding": null,
            "right": null,
            "top": null,
            "visibility": null,
            "width": null
          }
        },
        "3f15eb6158a14bd68a8c4b46421a2be9": {
          "model_module": "@jupyter-widgets/controls",
          "model_name": "ProgressStyleModel",
          "model_module_version": "1.5.0",
          "state": {
            "_model_module": "@jupyter-widgets/controls",
            "_model_module_version": "1.5.0",
            "_model_name": "ProgressStyleModel",
            "_view_count": null,
            "_view_module": "@jupyter-widgets/base",
            "_view_module_version": "1.2.0",
            "_view_name": "StyleView",
            "bar_color": null,
            "description_width": ""
          }
        },
        "e15dc01f8ea746ffa3a4e4a3bf127487": {
          "model_module": "@jupyter-widgets/base",
          "model_name": "LayoutModel",
          "model_module_version": "1.2.0",
          "state": {
            "_model_module": "@jupyter-widgets/base",
            "_model_module_version": "1.2.0",
            "_model_name": "LayoutModel",
            "_view_count": null,
            "_view_module": "@jupyter-widgets/base",
            "_view_module_version": "1.2.0",
            "_view_name": "LayoutView",
            "align_content": null,
            "align_items": null,
            "align_self": null,
            "border": null,
            "bottom": null,
            "display": null,
            "flex": null,
            "flex_flow": null,
            "grid_area": null,
            "grid_auto_columns": null,
            "grid_auto_flow": null,
            "grid_auto_rows": null,
            "grid_column": null,
            "grid_gap": null,
            "grid_row": null,
            "grid_template_areas": null,
            "grid_template_columns": null,
            "grid_template_rows": null,
            "height": null,
            "justify_content": null,
            "justify_items": null,
            "left": null,
            "margin": null,
            "max_height": null,
            "max_width": null,
            "min_height": null,
            "min_width": null,
            "object_fit": null,
            "object_position": null,
            "order": null,
            "overflow": null,
            "overflow_x": null,
            "overflow_y": null,
            "padding": null,
            "right": null,
            "top": null,
            "visibility": null,
            "width": null
          }
        },
        "d3be984725424f85ac09e2239f39a5bb": {
          "model_module": "@jupyter-widgets/controls",
          "model_name": "DescriptionStyleModel",
          "model_module_version": "1.5.0",
          "state": {
            "_model_module": "@jupyter-widgets/controls",
            "_model_module_version": "1.5.0",
            "_model_name": "DescriptionStyleModel",
            "_view_count": null,
            "_view_module": "@jupyter-widgets/base",
            "_view_module_version": "1.2.0",
            "_view_name": "StyleView",
            "description_width": ""
          }
        },
        "e12064d7e816469dbc1eb651eced4e58": {
          "model_module": "@jupyter-widgets/controls",
          "model_name": "HBoxModel",
          "model_module_version": "1.5.0",
          "state": {
            "_dom_classes": [],
            "_model_module": "@jupyter-widgets/controls",
            "_model_module_version": "1.5.0",
            "_model_name": "HBoxModel",
            "_view_count": null,
            "_view_module": "@jupyter-widgets/controls",
            "_view_module_version": "1.5.0",
            "_view_name": "HBoxView",
            "box_style": "",
            "children": [
              "IPY_MODEL_6cf5fb523df64bf1bc6c87145cfb90fc",
              "IPY_MODEL_60bc9e87b2184c4a89daf549479b106e",
              "IPY_MODEL_c81e5c4e98af4a98b46ed7978daa0c8b"
            ],
            "layout": "IPY_MODEL_980ed5e5cd4b4a0b8d5fb1232d8f114d"
          }
        },
        "6cf5fb523df64bf1bc6c87145cfb90fc": {
          "model_module": "@jupyter-widgets/controls",
          "model_name": "HTMLModel",
          "model_module_version": "1.5.0",
          "state": {
            "_dom_classes": [],
            "_model_module": "@jupyter-widgets/controls",
            "_model_module_version": "1.5.0",
            "_model_name": "HTMLModel",
            "_view_count": null,
            "_view_module": "@jupyter-widgets/controls",
            "_view_module_version": "1.5.0",
            "_view_name": "HTMLView",
            "description": "",
            "description_tooltip": null,
            "layout": "IPY_MODEL_2c8204885f6a46ad83a733df47fd2a0a",
            "placeholder": "​",
            "style": "IPY_MODEL_710bc420f8854ea0a580d5e469017a67",
            "value": "100%"
          }
        },
        "60bc9e87b2184c4a89daf549479b106e": {
          "model_module": "@jupyter-widgets/controls",
          "model_name": "FloatProgressModel",
          "model_module_version": "1.5.0",
          "state": {
            "_dom_classes": [],
            "_model_module": "@jupyter-widgets/controls",
            "_model_module_version": "1.5.0",
            "_model_name": "FloatProgressModel",
            "_view_count": null,
            "_view_module": "@jupyter-widgets/controls",
            "_view_module_version": "1.5.0",
            "_view_name": "ProgressView",
            "bar_style": "success",
            "description": "",
            "description_tooltip": null,
            "layout": "IPY_MODEL_6681cf33cfbd41c5bb4dd0cfaf2f88c5",
            "max": 1648877,
            "min": 0,
            "orientation": "horizontal",
            "style": "IPY_MODEL_6c5a6d1cec844ff680d118a26dc6dae1",
            "value": 1648877
          }
        },
        "c81e5c4e98af4a98b46ed7978daa0c8b": {
          "model_module": "@jupyter-widgets/controls",
          "model_name": "HTMLModel",
          "model_module_version": "1.5.0",
          "state": {
            "_dom_classes": [],
            "_model_module": "@jupyter-widgets/controls",
            "_model_module_version": "1.5.0",
            "_model_name": "HTMLModel",
            "_view_count": null,
            "_view_module": "@jupyter-widgets/controls",
            "_view_module_version": "1.5.0",
            "_view_name": "HTMLView",
            "description": "",
            "description_tooltip": null,
            "layout": "IPY_MODEL_8aba18d7ac7b4c38b6d4d327fb92c767",
            "placeholder": "​",
            "style": "IPY_MODEL_b7c9e3baffc24057a0f2e8b8ac476b42",
            "value": " 1648877/1648877 [00:00&lt;00:00, 8746562.86it/s]"
          }
        },
        "980ed5e5cd4b4a0b8d5fb1232d8f114d": {
          "model_module": "@jupyter-widgets/base",
          "model_name": "LayoutModel",
          "model_module_version": "1.2.0",
          "state": {
            "_model_module": "@jupyter-widgets/base",
            "_model_module_version": "1.2.0",
            "_model_name": "LayoutModel",
            "_view_count": null,
            "_view_module": "@jupyter-widgets/base",
            "_view_module_version": "1.2.0",
            "_view_name": "LayoutView",
            "align_content": null,
            "align_items": null,
            "align_self": null,
            "border": null,
            "bottom": null,
            "display": null,
            "flex": null,
            "flex_flow": null,
            "grid_area": null,
            "grid_auto_columns": null,
            "grid_auto_flow": null,
            "grid_auto_rows": null,
            "grid_column": null,
            "grid_gap": null,
            "grid_row": null,
            "grid_template_areas": null,
            "grid_template_columns": null,
            "grid_template_rows": null,
            "height": null,
            "justify_content": null,
            "justify_items": null,
            "left": null,
            "margin": null,
            "max_height": null,
            "max_width": null,
            "min_height": null,
            "min_width": null,
            "object_fit": null,
            "object_position": null,
            "order": null,
            "overflow": null,
            "overflow_x": null,
            "overflow_y": null,
            "padding": null,
            "right": null,
            "top": null,
            "visibility": null,
            "width": null
          }
        },
        "2c8204885f6a46ad83a733df47fd2a0a": {
          "model_module": "@jupyter-widgets/base",
          "model_name": "LayoutModel",
          "model_module_version": "1.2.0",
          "state": {
            "_model_module": "@jupyter-widgets/base",
            "_model_module_version": "1.2.0",
            "_model_name": "LayoutModel",
            "_view_count": null,
            "_view_module": "@jupyter-widgets/base",
            "_view_module_version": "1.2.0",
            "_view_name": "LayoutView",
            "align_content": null,
            "align_items": null,
            "align_self": null,
            "border": null,
            "bottom": null,
            "display": null,
            "flex": null,
            "flex_flow": null,
            "grid_area": null,
            "grid_auto_columns": null,
            "grid_auto_flow": null,
            "grid_auto_rows": null,
            "grid_column": null,
            "grid_gap": null,
            "grid_row": null,
            "grid_template_areas": null,
            "grid_template_columns": null,
            "grid_template_rows": null,
            "height": null,
            "justify_content": null,
            "justify_items": null,
            "left": null,
            "margin": null,
            "max_height": null,
            "max_width": null,
            "min_height": null,
            "min_width": null,
            "object_fit": null,
            "object_position": null,
            "order": null,
            "overflow": null,
            "overflow_x": null,
            "overflow_y": null,
            "padding": null,
            "right": null,
            "top": null,
            "visibility": null,
            "width": null
          }
        },
        "710bc420f8854ea0a580d5e469017a67": {
          "model_module": "@jupyter-widgets/controls",
          "model_name": "DescriptionStyleModel",
          "model_module_version": "1.5.0",
          "state": {
            "_model_module": "@jupyter-widgets/controls",
            "_model_module_version": "1.5.0",
            "_model_name": "DescriptionStyleModel",
            "_view_count": null,
            "_view_module": "@jupyter-widgets/base",
            "_view_module_version": "1.2.0",
            "_view_name": "StyleView",
            "description_width": ""
          }
        },
        "6681cf33cfbd41c5bb4dd0cfaf2f88c5": {
          "model_module": "@jupyter-widgets/base",
          "model_name": "LayoutModel",
          "model_module_version": "1.2.0",
          "state": {
            "_model_module": "@jupyter-widgets/base",
            "_model_module_version": "1.2.0",
            "_model_name": "LayoutModel",
            "_view_count": null,
            "_view_module": "@jupyter-widgets/base",
            "_view_module_version": "1.2.0",
            "_view_name": "LayoutView",
            "align_content": null,
            "align_items": null,
            "align_self": null,
            "border": null,
            "bottom": null,
            "display": null,
            "flex": null,
            "flex_flow": null,
            "grid_area": null,
            "grid_auto_columns": null,
            "grid_auto_flow": null,
            "grid_auto_rows": null,
            "grid_column": null,
            "grid_gap": null,
            "grid_row": null,
            "grid_template_areas": null,
            "grid_template_columns": null,
            "grid_template_rows": null,
            "height": null,
            "justify_content": null,
            "justify_items": null,
            "left": null,
            "margin": null,
            "max_height": null,
            "max_width": null,
            "min_height": null,
            "min_width": null,
            "object_fit": null,
            "object_position": null,
            "order": null,
            "overflow": null,
            "overflow_x": null,
            "overflow_y": null,
            "padding": null,
            "right": null,
            "top": null,
            "visibility": null,
            "width": null
          }
        },
        "6c5a6d1cec844ff680d118a26dc6dae1": {
          "model_module": "@jupyter-widgets/controls",
          "model_name": "ProgressStyleModel",
          "model_module_version": "1.5.0",
          "state": {
            "_model_module": "@jupyter-widgets/controls",
            "_model_module_version": "1.5.0",
            "_model_name": "ProgressStyleModel",
            "_view_count": null,
            "_view_module": "@jupyter-widgets/base",
            "_view_module_version": "1.2.0",
            "_view_name": "StyleView",
            "bar_color": null,
            "description_width": ""
          }
        },
        "8aba18d7ac7b4c38b6d4d327fb92c767": {
          "model_module": "@jupyter-widgets/base",
          "model_name": "LayoutModel",
          "model_module_version": "1.2.0",
          "state": {
            "_model_module": "@jupyter-widgets/base",
            "_model_module_version": "1.2.0",
            "_model_name": "LayoutModel",
            "_view_count": null,
            "_view_module": "@jupyter-widgets/base",
            "_view_module_version": "1.2.0",
            "_view_name": "LayoutView",
            "align_content": null,
            "align_items": null,
            "align_self": null,
            "border": null,
            "bottom": null,
            "display": null,
            "flex": null,
            "flex_flow": null,
            "grid_area": null,
            "grid_auto_columns": null,
            "grid_auto_flow": null,
            "grid_auto_rows": null,
            "grid_column": null,
            "grid_gap": null,
            "grid_row": null,
            "grid_template_areas": null,
            "grid_template_columns": null,
            "grid_template_rows": null,
            "height": null,
            "justify_content": null,
            "justify_items": null,
            "left": null,
            "margin": null,
            "max_height": null,
            "max_width": null,
            "min_height": null,
            "min_width": null,
            "object_fit": null,
            "object_position": null,
            "order": null,
            "overflow": null,
            "overflow_x": null,
            "overflow_y": null,
            "padding": null,
            "right": null,
            "top": null,
            "visibility": null,
            "width": null
          }
        },
        "b7c9e3baffc24057a0f2e8b8ac476b42": {
          "model_module": "@jupyter-widgets/controls",
          "model_name": "DescriptionStyleModel",
          "model_module_version": "1.5.0",
          "state": {
            "_model_module": "@jupyter-widgets/controls",
            "_model_module_version": "1.5.0",
            "_model_name": "DescriptionStyleModel",
            "_view_count": null,
            "_view_module": "@jupyter-widgets/base",
            "_view_module_version": "1.2.0",
            "_view_name": "StyleView",
            "description_width": ""
          }
        },
        "82966eee46ee4467b76191c0574f9949": {
          "model_module": "@jupyter-widgets/controls",
          "model_name": "HBoxModel",
          "model_module_version": "1.5.0",
          "state": {
            "_dom_classes": [],
            "_model_module": "@jupyter-widgets/controls",
            "_model_module_version": "1.5.0",
            "_model_name": "HBoxModel",
            "_view_count": null,
            "_view_module": "@jupyter-widgets/controls",
            "_view_module_version": "1.5.0",
            "_view_name": "HBoxView",
            "box_style": "",
            "children": [
              "IPY_MODEL_fdc78f69b1c0444cb08b60348d45c7ea",
              "IPY_MODEL_272b8950ac7e4c1585dfcd1650090d87",
              "IPY_MODEL_257ef707821e434797cfb2385952b59a"
            ],
            "layout": "IPY_MODEL_c43a8a092b5a4dcf848ee42b7bd925e6"
          }
        },
        "fdc78f69b1c0444cb08b60348d45c7ea": {
          "model_module": "@jupyter-widgets/controls",
          "model_name": "HTMLModel",
          "model_module_version": "1.5.0",
          "state": {
            "_dom_classes": [],
            "_model_module": "@jupyter-widgets/controls",
            "_model_module_version": "1.5.0",
            "_model_name": "HTMLModel",
            "_view_count": null,
            "_view_module": "@jupyter-widgets/controls",
            "_view_module_version": "1.5.0",
            "_view_name": "HTMLView",
            "description": "",
            "description_tooltip": null,
            "layout": "IPY_MODEL_44fb10f6b29542e79a50c1319beca3a6",
            "placeholder": "​",
            "style": "IPY_MODEL_d9ba72ae9afc4700b063f466e1259d9a",
            "value": "100%"
          }
        },
        "272b8950ac7e4c1585dfcd1650090d87": {
          "model_module": "@jupyter-widgets/controls",
          "model_name": "FloatProgressModel",
          "model_module_version": "1.5.0",
          "state": {
            "_dom_classes": [],
            "_model_module": "@jupyter-widgets/controls",
            "_model_module_version": "1.5.0",
            "_model_name": "FloatProgressModel",
            "_view_count": null,
            "_view_module": "@jupyter-widgets/controls",
            "_view_module_version": "1.5.0",
            "_view_name": "ProgressView",
            "bar_style": "success",
            "description": "",
            "description_tooltip": null,
            "layout": "IPY_MODEL_3966f8847e4c41b78e303944e813dd6d",
            "max": 4542,
            "min": 0,
            "orientation": "horizontal",
            "style": "IPY_MODEL_ad5df2181c954da3bbe15ee8069f1244",
            "value": 4542
          }
        },
        "257ef707821e434797cfb2385952b59a": {
          "model_module": "@jupyter-widgets/controls",
          "model_name": "HTMLModel",
          "model_module_version": "1.5.0",
          "state": {
            "_dom_classes": [],
            "_model_module": "@jupyter-widgets/controls",
            "_model_module_version": "1.5.0",
            "_model_name": "HTMLModel",
            "_view_count": null,
            "_view_module": "@jupyter-widgets/controls",
            "_view_module_version": "1.5.0",
            "_view_name": "HTMLView",
            "description": "",
            "description_tooltip": null,
            "layout": "IPY_MODEL_bf348b297ef445ed9696ccdc53bf0a8a",
            "placeholder": "​",
            "style": "IPY_MODEL_19738d94980f4d8bb6a727add1327d23",
            "value": " 4542/4542 [00:00&lt;00:00, 130311.70it/s]"
          }
        },
        "c43a8a092b5a4dcf848ee42b7bd925e6": {
          "model_module": "@jupyter-widgets/base",
          "model_name": "LayoutModel",
          "model_module_version": "1.2.0",
          "state": {
            "_model_module": "@jupyter-widgets/base",
            "_model_module_version": "1.2.0",
            "_model_name": "LayoutModel",
            "_view_count": null,
            "_view_module": "@jupyter-widgets/base",
            "_view_module_version": "1.2.0",
            "_view_name": "LayoutView",
            "align_content": null,
            "align_items": null,
            "align_self": null,
            "border": null,
            "bottom": null,
            "display": null,
            "flex": null,
            "flex_flow": null,
            "grid_area": null,
            "grid_auto_columns": null,
            "grid_auto_flow": null,
            "grid_auto_rows": null,
            "grid_column": null,
            "grid_gap": null,
            "grid_row": null,
            "grid_template_areas": null,
            "grid_template_columns": null,
            "grid_template_rows": null,
            "height": null,
            "justify_content": null,
            "justify_items": null,
            "left": null,
            "margin": null,
            "max_height": null,
            "max_width": null,
            "min_height": null,
            "min_width": null,
            "object_fit": null,
            "object_position": null,
            "order": null,
            "overflow": null,
            "overflow_x": null,
            "overflow_y": null,
            "padding": null,
            "right": null,
            "top": null,
            "visibility": null,
            "width": null
          }
        },
        "44fb10f6b29542e79a50c1319beca3a6": {
          "model_module": "@jupyter-widgets/base",
          "model_name": "LayoutModel",
          "model_module_version": "1.2.0",
          "state": {
            "_model_module": "@jupyter-widgets/base",
            "_model_module_version": "1.2.0",
            "_model_name": "LayoutModel",
            "_view_count": null,
            "_view_module": "@jupyter-widgets/base",
            "_view_module_version": "1.2.0",
            "_view_name": "LayoutView",
            "align_content": null,
            "align_items": null,
            "align_self": null,
            "border": null,
            "bottom": null,
            "display": null,
            "flex": null,
            "flex_flow": null,
            "grid_area": null,
            "grid_auto_columns": null,
            "grid_auto_flow": null,
            "grid_auto_rows": null,
            "grid_column": null,
            "grid_gap": null,
            "grid_row": null,
            "grid_template_areas": null,
            "grid_template_columns": null,
            "grid_template_rows": null,
            "height": null,
            "justify_content": null,
            "justify_items": null,
            "left": null,
            "margin": null,
            "max_height": null,
            "max_width": null,
            "min_height": null,
            "min_width": null,
            "object_fit": null,
            "object_position": null,
            "order": null,
            "overflow": null,
            "overflow_x": null,
            "overflow_y": null,
            "padding": null,
            "right": null,
            "top": null,
            "visibility": null,
            "width": null
          }
        },
        "d9ba72ae9afc4700b063f466e1259d9a": {
          "model_module": "@jupyter-widgets/controls",
          "model_name": "DescriptionStyleModel",
          "model_module_version": "1.5.0",
          "state": {
            "_model_module": "@jupyter-widgets/controls",
            "_model_module_version": "1.5.0",
            "_model_name": "DescriptionStyleModel",
            "_view_count": null,
            "_view_module": "@jupyter-widgets/base",
            "_view_module_version": "1.2.0",
            "_view_name": "StyleView",
            "description_width": ""
          }
        },
        "3966f8847e4c41b78e303944e813dd6d": {
          "model_module": "@jupyter-widgets/base",
          "model_name": "LayoutModel",
          "model_module_version": "1.2.0",
          "state": {
            "_model_module": "@jupyter-widgets/base",
            "_model_module_version": "1.2.0",
            "_model_name": "LayoutModel",
            "_view_count": null,
            "_view_module": "@jupyter-widgets/base",
            "_view_module_version": "1.2.0",
            "_view_name": "LayoutView",
            "align_content": null,
            "align_items": null,
            "align_self": null,
            "border": null,
            "bottom": null,
            "display": null,
            "flex": null,
            "flex_flow": null,
            "grid_area": null,
            "grid_auto_columns": null,
            "grid_auto_flow": null,
            "grid_auto_rows": null,
            "grid_column": null,
            "grid_gap": null,
            "grid_row": null,
            "grid_template_areas": null,
            "grid_template_columns": null,
            "grid_template_rows": null,
            "height": null,
            "justify_content": null,
            "justify_items": null,
            "left": null,
            "margin": null,
            "max_height": null,
            "max_width": null,
            "min_height": null,
            "min_width": null,
            "object_fit": null,
            "object_position": null,
            "order": null,
            "overflow": null,
            "overflow_x": null,
            "overflow_y": null,
            "padding": null,
            "right": null,
            "top": null,
            "visibility": null,
            "width": null
          }
        },
        "ad5df2181c954da3bbe15ee8069f1244": {
          "model_module": "@jupyter-widgets/controls",
          "model_name": "ProgressStyleModel",
          "model_module_version": "1.5.0",
          "state": {
            "_model_module": "@jupyter-widgets/controls",
            "_model_module_version": "1.5.0",
            "_model_name": "ProgressStyleModel",
            "_view_count": null,
            "_view_module": "@jupyter-widgets/base",
            "_view_module_version": "1.2.0",
            "_view_name": "StyleView",
            "bar_color": null,
            "description_width": ""
          }
        },
        "bf348b297ef445ed9696ccdc53bf0a8a": {
          "model_module": "@jupyter-widgets/base",
          "model_name": "LayoutModel",
          "model_module_version": "1.2.0",
          "state": {
            "_model_module": "@jupyter-widgets/base",
            "_model_module_version": "1.2.0",
            "_model_name": "LayoutModel",
            "_view_count": null,
            "_view_module": "@jupyter-widgets/base",
            "_view_module_version": "1.2.0",
            "_view_name": "LayoutView",
            "align_content": null,
            "align_items": null,
            "align_self": null,
            "border": null,
            "bottom": null,
            "display": null,
            "flex": null,
            "flex_flow": null,
            "grid_area": null,
            "grid_auto_columns": null,
            "grid_auto_flow": null,
            "grid_auto_rows": null,
            "grid_column": null,
            "grid_gap": null,
            "grid_row": null,
            "grid_template_areas": null,
            "grid_template_columns": null,
            "grid_template_rows": null,
            "height": null,
            "justify_content": null,
            "justify_items": null,
            "left": null,
            "margin": null,
            "max_height": null,
            "max_width": null,
            "min_height": null,
            "min_width": null,
            "object_fit": null,
            "object_position": null,
            "order": null,
            "overflow": null,
            "overflow_x": null,
            "overflow_y": null,
            "padding": null,
            "right": null,
            "top": null,
            "visibility": null,
            "width": null
          }
        },
        "19738d94980f4d8bb6a727add1327d23": {
          "model_module": "@jupyter-widgets/controls",
          "model_name": "DescriptionStyleModel",
          "model_module_version": "1.5.0",
          "state": {
            "_model_module": "@jupyter-widgets/controls",
            "_model_module_version": "1.5.0",
            "_model_name": "DescriptionStyleModel",
            "_view_count": null,
            "_view_module": "@jupyter-widgets/base",
            "_view_module_version": "1.2.0",
            "_view_name": "StyleView",
            "description_width": ""
          }
        }
      }
    }
  },
  "cells": [
    {
      "cell_type": "code",
      "execution_count": 1,
      "metadata": {
        "id": "-cg01b9aWt0O"
      },
      "outputs": [],
      "source": [
        "import torch\n",
        "import numpy as np\n",
        "import matplotlib.pyplot as plt\n",
        "import pandas as pd \n",
        "import seaborn as sn \n",
        "from torchvision import datasets\n",
        "from itertools import combinations\n",
        "from sklearn.model_selection import train_test_split\n",
        "from sklearn.metrics import confusion_matrix, accuracy_score\n",
        "from sklearn.svm import SVC\n",
        "from sklearn.tree import DecisionTreeClassifier\n",
        "from sklearn.discriminant_analysis import LinearDiscriminantAnalysis\n",
        "from sklearn.datasets import fetch_openml"
      ]
    },
    {
      "cell_type": "code",
      "source": [
        "mnist_data = datasets.MNIST(root=\"dataset/\", download=True)\n",
        "labels = mnist_data.targets.numpy()\n",
        "dataset = mnist_data.data.numpy().reshape(-1,784).T"
      ],
      "metadata": {
        "colab": {
          "base_uri": "https://localhost:8080/",
          "height": 431,
          "referenced_widgets": [
            "c9ae3051d7764afab7f2f1dfeb110dc8",
            "3dc3b8d2d0b640ab8318e9292be3be45",
            "cc804faebfa24ea297f70d34d0a46f33",
            "21b18f187e0c421691beb1142de7c1e0",
            "a266d98402b340e79c946cd89a80016e",
            "e015b02cbf5b489aa0efeef4b9a498c9",
            "2152af0a8f6744a889fe53ad5bf6cd90",
            "b42ed1890e2c46f8a12d224d320695ff",
            "f5008dc64cde44a391c39257a2bbb891",
            "283b020a65a4468e95cd978fb989b78f",
            "5588a0209e18406496d91290cfddb745",
            "b8f72465ead24bf68c9380374e55ef1c",
            "a1dde6afc0b442f781e305ea7529b9fe",
            "2952cdc9f9964dd18e57512ebaaff6f1",
            "370e8b741a6548e7a784e4ad9a0c25e9",
            "f87bebfeec024a65b7d4e678ffc074dc",
            "81743a6cb8e24dab8e8ace4b1a434adb",
            "0327323a9c7446c9be2bf9a1e4685ce4",
            "904d0e3b15de4c029e5c7aa06653be63",
            "3f15eb6158a14bd68a8c4b46421a2be9",
            "e15dc01f8ea746ffa3a4e4a3bf127487",
            "d3be984725424f85ac09e2239f39a5bb",
            "e12064d7e816469dbc1eb651eced4e58",
            "6cf5fb523df64bf1bc6c87145cfb90fc",
            "60bc9e87b2184c4a89daf549479b106e",
            "c81e5c4e98af4a98b46ed7978daa0c8b",
            "980ed5e5cd4b4a0b8d5fb1232d8f114d",
            "2c8204885f6a46ad83a733df47fd2a0a",
            "710bc420f8854ea0a580d5e469017a67",
            "6681cf33cfbd41c5bb4dd0cfaf2f88c5",
            "6c5a6d1cec844ff680d118a26dc6dae1",
            "8aba18d7ac7b4c38b6d4d327fb92c767",
            "b7c9e3baffc24057a0f2e8b8ac476b42",
            "82966eee46ee4467b76191c0574f9949",
            "fdc78f69b1c0444cb08b60348d45c7ea",
            "272b8950ac7e4c1585dfcd1650090d87",
            "257ef707821e434797cfb2385952b59a",
            "c43a8a092b5a4dcf848ee42b7bd925e6",
            "44fb10f6b29542e79a50c1319beca3a6",
            "d9ba72ae9afc4700b063f466e1259d9a",
            "3966f8847e4c41b78e303944e813dd6d",
            "ad5df2181c954da3bbe15ee8069f1244",
            "bf348b297ef445ed9696ccdc53bf0a8a",
            "19738d94980f4d8bb6a727add1327d23"
          ]
        },
        "id": "EnvN3B5rW0F7",
        "outputId": "2b51392f-629c-4e20-c71f-013ffd5101d0"
      },
      "execution_count": 2,
      "outputs": [
        {
          "output_type": "stream",
          "name": "stdout",
          "text": [
            "Downloading http://yann.lecun.com/exdb/mnist/train-images-idx3-ubyte.gz\n",
            "Downloading http://yann.lecun.com/exdb/mnist/train-images-idx3-ubyte.gz to dataset/MNIST/raw/train-images-idx3-ubyte.gz\n"
          ]
        },
        {
          "output_type": "display_data",
          "data": {
            "text/plain": [
              "  0%|          | 0/9912422 [00:00<?, ?it/s]"
            ],
            "application/vnd.jupyter.widget-view+json": {
              "version_major": 2,
              "version_minor": 0,
              "model_id": "c9ae3051d7764afab7f2f1dfeb110dc8"
            }
          },
          "metadata": {}
        },
        {
          "output_type": "stream",
          "name": "stdout",
          "text": [
            "Extracting dataset/MNIST/raw/train-images-idx3-ubyte.gz to dataset/MNIST/raw\n",
            "\n",
            "Downloading http://yann.lecun.com/exdb/mnist/train-labels-idx1-ubyte.gz\n",
            "Downloading http://yann.lecun.com/exdb/mnist/train-labels-idx1-ubyte.gz to dataset/MNIST/raw/train-labels-idx1-ubyte.gz\n"
          ]
        },
        {
          "output_type": "display_data",
          "data": {
            "text/plain": [
              "  0%|          | 0/28881 [00:00<?, ?it/s]"
            ],
            "application/vnd.jupyter.widget-view+json": {
              "version_major": 2,
              "version_minor": 0,
              "model_id": "b8f72465ead24bf68c9380374e55ef1c"
            }
          },
          "metadata": {}
        },
        {
          "output_type": "stream",
          "name": "stdout",
          "text": [
            "Extracting dataset/MNIST/raw/train-labels-idx1-ubyte.gz to dataset/MNIST/raw\n",
            "\n",
            "Downloading http://yann.lecun.com/exdb/mnist/t10k-images-idx3-ubyte.gz\n",
            "Downloading http://yann.lecun.com/exdb/mnist/t10k-images-idx3-ubyte.gz to dataset/MNIST/raw/t10k-images-idx3-ubyte.gz\n"
          ]
        },
        {
          "output_type": "display_data",
          "data": {
            "text/plain": [
              "  0%|          | 0/1648877 [00:00<?, ?it/s]"
            ],
            "application/vnd.jupyter.widget-view+json": {
              "version_major": 2,
              "version_minor": 0,
              "model_id": "e12064d7e816469dbc1eb651eced4e58"
            }
          },
          "metadata": {}
        },
        {
          "output_type": "stream",
          "name": "stdout",
          "text": [
            "Extracting dataset/MNIST/raw/t10k-images-idx3-ubyte.gz to dataset/MNIST/raw\n",
            "\n",
            "Downloading http://yann.lecun.com/exdb/mnist/t10k-labels-idx1-ubyte.gz\n",
            "Downloading http://yann.lecun.com/exdb/mnist/t10k-labels-idx1-ubyte.gz to dataset/MNIST/raw/t10k-labels-idx1-ubyte.gz\n"
          ]
        },
        {
          "output_type": "display_data",
          "data": {
            "text/plain": [
              "  0%|          | 0/4542 [00:00<?, ?it/s]"
            ],
            "application/vnd.jupyter.widget-view+json": {
              "version_major": 2,
              "version_minor": 0,
              "model_id": "82966eee46ee4467b76191c0574f9949"
            }
          },
          "metadata": {}
        },
        {
          "output_type": "stream",
          "name": "stdout",
          "text": [
            "Extracting dataset/MNIST/raw/t10k-labels-idx1-ubyte.gz to dataset/MNIST/raw\n",
            "\n"
          ]
        }
      ]
    },
    {
      "cell_type": "code",
      "source": [
        "# (a) SVD of the digit images\n",
        "U, S, Vt = np.linalg.svd(dataset, full_matrices=False)\n"
      ],
      "metadata": {
        "id": "GfUdBe8-W3I5"
      },
      "execution_count": 3,
      "outputs": []
    },
    {
      "cell_type": "code",
      "source": [
        "#(b) Singular value spectrum\n",
        "plt.figure(figsize=(8,8))\n",
        "\n",
        "plt.figure(1)\n",
        "plt.plot(S)\n",
        "plt.title('Singular Values')\n",
        "plt.show()\n",
        "\n",
        "plt.figure(figsize=(8,8))\n",
        "\n",
        "plt.figure(2)\n",
        "plt.plot(np.cumsum(S)/np.sum(S))\n",
        "plt.title('Singular Values: Cumulative Sum')\n",
        "plt.show()"
      ],
      "metadata": {
        "colab": {
          "base_uri": "https://localhost:8080/",
          "height": 781
        },
        "id": "CmrUivpTW68Y",
        "outputId": "3f8865a7-c030-4191-8b87-9d7a2314d040"
      },
      "execution_count": 15,
      "outputs": [
        {
          "output_type": "display_data",
          "data": {
            "text/plain": [
              "<Figure size 576x576 with 1 Axes>"
            ],
            "image/png": "[encoded data removed]"
          },
          "metadata": {
            "needs_background": "light"
          }
        },
        {
          "output_type": "display_data",
          "data": {
            "text/plain": [
              "<Figure size 576x576 with 0 Axes>"
            ]
          },
          "metadata": {}
        },
        {
          "output_type": "display_data",
          "data": {
            "text/plain": [
              "<Figure size 432x288 with 1 Axes>"
            ],
            "image/png": "[encoded data removed]"
          },
          "metadata": {
            "needs_background": "light"
          }
        }
      ]
    },
    {
      "cell_type": "code",
      "source": [
        "#image reconstruction\n",
        "\n",
        "j = 0\n",
        "for r in (50, 100, 150, 200):\n",
        "    # Construct approximate image\n",
        "    Xapprox = ((U[:,:r] @ np.diag(S)[0:r,:r] @ Vt[:r,:]) [:,0].reshape(28,28))\n",
        "    plt.figure(j+1)\n",
        "    j += 1\n",
        "    img = plt.imshow(Xapprox)\n",
        "    #img.set_cmap('gray')\n",
        "    plt.axis('off')\n",
        "    plt.title('r = ' + str(r))\n",
        "    plt.show()"
      ],
      "metadata": {
        "colab": {
          "base_uri": "https://localhost:8080/",
          "height": 1000
        },
        "id": "ODwq8-avXJPm",
        "outputId": "7ecd2177-b8d5-41dd-d716-39f7145fb96f"
      },
      "execution_count": 5,
      "outputs": [
        {
          "output_type": "display_data",
          "data": {
            "text/plain": [
              "<Figure size 432x288 with 1 Axes>"
            ],
            "image/png": "[encoded data removed]"
          },
          "metadata": {
            "needs_background": "light"
          }
        },
        {
          "output_type": "display_data",
          "data": {
            "text/plain": [
              "<Figure size 432x288 with 1 Axes>"
            ],
            "image/png": "[encoded data removed]"
          },
          "metadata": {
            "needs_background": "light"
          }
        },
        {
          "output_type": "display_data",
          "data": {
            "text/plain": [
              "<Figure size 432x288 with 1 Axes>"
            ],
            "image/png": "[encoded data removed]"
          },
          "metadata": {
            "needs_background": "light"
          }
        },
        {
          "output_type": "display_data",
          "data": {
            "text/plain": [
              "<Figure size 432x288 with 1 Axes>"
            ],
            "image/png": "[encoded data removed]"
          },
          "metadata": {
            "needs_background": "light"
          }
        }
      ]
    },
    {
      "cell_type": "code",
      "source": [
        "#(d)\n",
        "\n",
        "fig = plt.figure(figsize=(10,10))\n",
        "ax = fig.add_subplot(projection='3d')\n",
        "\n",
        "ax.scatter(Vt[:,2],Vt[:,3],Vt[:,5], c='b', label='column 2')\n",
        "ax.scatter(Vt[:,3],Vt[:,2],Vt[:,5], c='r', label='column 3')\n",
        "ax.scatter(Vt[:,5],Vt[:,3],Vt[:,2], c='y', label='column 5')\n",
        "\n",
        "ax.legend()"
      ],
      "metadata": {
        "colab": {
          "base_uri": "https://localhost:8080/",
          "height": 593
        },
        "id": "2qfOT1b8XTri",
        "outputId": "e27352ba-c3f1-40aa-919d-b34647fd2910"
      },
      "execution_count": 7,
      "outputs": [
        {
          "output_type": "execute_result",
          "data": {
            "text/plain": [
              "<matplotlib.legend.Legend at 0x7fa53c9a4580>"
            ]
          },
          "metadata": {},
          "execution_count": 7
        },
        {
          "output_type": "display_data",
          "data": {
            "text/plain": [
              "<Figure size 720x720 with 1 Axes>"
            ],
            "image/png": "[encoded data removed]"
          },
          "metadata": {
            "needs_background": "light"
          }
        }
      ]
    },
    {
      "cell_type": "code",
      "source": [
        "#(e) pick two digits\n",
        "\n",
        "two_d= (labels==1)+(labels==5)\n",
        "two_d_x, two_d_y = dataset[:,two_d], labels[two_d]\n",
        "x_train, x_test, y_train, y_test = train_test_split(two_d_x.T, two_d_y)\n",
        "\n",
        "LDA= LinearDiscriminantAnalysis()\n",
        "\n",
        "LDA1 = LDA.fit(x_train, y_train)\n",
        "test_labels = LDA.predict(x_test)\n",
        "LDA.ac = accuracy_score(y_test,test_labels)\n",
        "print(LDA.ac)"
      ],
      "metadata": {
        "colab": {
          "base_uri": "https://localhost:8080/"
        },
        "id": "a8T9EjVzXZMP",
        "outputId": "0aae415e-837d-443c-e26c-4af6a6a1509f"
      },
      "execution_count": 8,
      "outputs": [
        {
          "output_type": "stream",
          "name": "stdout",
          "text": [
            "0.9842157185136469\n"
          ]
        }
      ]
    },
    {
      "cell_type": "code",
      "source": [
        "#(f) pick three digits\n",
        "\n",
        "three_d= (labels==1)+(labels==5)+(labels==7)\n",
        "three_d_x, three_d_y = dataset[:,three_d], labels[three_d]\n",
        "x_train, x_test, y_train, y_test = train_test_split(three_d_x.T, three_d_y)\n",
        "\n",
        "LDA1 = LDA.fit(x_train, y_train)\n",
        "test_labels = LDA.predict(x_test)\n",
        "LDA.ac = accuracy_score(y_test,test_labels)\n",
        "print(LDA.ac)"
      ],
      "metadata": {
        "colab": {
          "base_uri": "https://localhost:8080/"
        },
        "id": "SYQc9W0fXd4R",
        "outputId": "fc9c09fe-5123-4dc5-b31d-787d7c7cd6db"
      },
      "execution_count": 9,
      "outputs": [
        {
          "output_type": "stream",
          "name": "stdout",
          "text": [
            "0.9754721076622531\n"
          ]
        }
      ]
    },
    {
      "cell_type": "code",
      "source": [
        "#(g) pick all digits to check for separating difficulty\n",
        "\n",
        "x_train_all, x_test_all, y_train_all, y_test_all = train_test_split(dataset.T, labels)\n",
        "\n",
        "LDA1 = LDA.fit(x_train_all, y_train_all)\n",
        "test_labels_all = LDA.predict(x_test_all)\n",
        "LDA.ac = accuracy_score(y_test_all,test_labels_all)\n",
        "print(LDA.ac)"
      ],
      "metadata": {
        "colab": {
          "base_uri": "https://localhost:8080/"
        },
        "id": "hQz519ZeXhNP",
        "outputId": "c33c3ad5-eb13-4217-9669-5122b55c0b5a"
      },
      "execution_count": 10,
      "outputs": [
        {
          "output_type": "stream",
          "name": "stdout",
          "text": [
            "0.8639333333333333\n"
          ]
        }
      ]
    },
    {
      "cell_type": "code",
      "source": [
        "#(g,h) pick two digits\n",
        "print(\"digit1 digit2 LDA accuracy\")\n",
        "for j in range(0,10):\n",
        "  for r in range(0,10):\n",
        "    two_d= (labels==j)+(labels==r)\n",
        "    two_d_x, two_d_y = dataset[:,two_d], labels[two_d]\n",
        "    x_train, x_test, y_train, y_test = train_test_split(two_d_x.T, two_d_y)\n",
        "    \n",
        "    LDA= LinearDiscriminantAnalysis()\n",
        "    LDA1 = LDA.fit(x_train, y_train)\n",
        "    test_labels = LDA.predict(x_test)\n",
        "    LDA.ac = accuracy_score(y_test,test_labels)\n",
        "    print(j,r, LDA.ac)"
      ],
      "metadata": {
        "colab": {
          "base_uri": "https://localhost:8080/"
        },
        "id": "OuLSpzogXkjT",
        "outputId": "1298463a-44c3-4c04-e8f4-badb89ee7907"
      },
      "execution_count": 11,
      "outputs": [
        {
          "output_type": "stream",
          "name": "stdout",
          "text": [
            "digit1 digit2 LDA accuracy\n",
            "0 0 1.0\n",
            "0 1 0.9921060940953584\n",
            "0 2 0.9861999326825984\n",
            "0 3 0.9883875248838753\n",
            "0 4 0.990482664853841\n",
            "0 5 0.9823695345557123\n",
            "0 6 0.9858156028368794\n",
            "0 7 0.9960617000328191\n",
            "0 8 0.984375\n",
            "0 9 0.9912398921832885\n",
            "1 0 0.9927376065677297\n",
            "1 1 1.0\n",
            "1 2 0.9782677165354331\n",
            "1 3 0.9841565703634669\n",
            "1 4 0.9936427209154481\n",
            "1 5 0.9898059848733969\n",
            "1 6 0.9924170616113744\n",
            "1 7 0.9861623616236163\n",
            "1 8 0.9647507145125437\n",
            "1 9 0.9927513394264104\n",
            "2 0 0.985863345674857\n",
            "2 1 0.9833070866141732\n",
            "2 2 1.0\n",
            "2 3 0.969897452861396\n",
            "2 4 0.9816949152542372\n",
            "2 5 0.9739894551845343\n",
            "2 6 0.9744021556079488\n",
            "2 7 0.9826570680628273\n",
            "2 8 0.9610565526583136\n",
            "2 9 0.9811891165602956\n",
            "3 0 0.9927007299270073\n",
            "3 1 0.9798073936004971\n",
            "3 2 0.968905061197486\n",
            "3 3 1.0\n",
            "3 4 0.9846359385437542\n",
            "3 5 0.9490997229916898\n",
            "3 6 0.9873879853966147\n",
            "3 7 0.9825750242013552\n",
            "3 8 0.9586114819759679\n",
            "3 9 0.9801324503311258\n",
            "4 0 0.9915023793337865\n",
            "4 1 0.9939605848696758\n",
            "4 2 0.9769491525423729\n",
            "4 3 0.9909819639278558\n",
            "4 4 1.0\n",
            "4 5 0.9857954545454546\n",
            "4 6 0.991156462585034\n",
            "4 7 0.9805087545424512\n",
            "4 8 0.9883720930232558\n",
            "4 9 0.9606512890094979\n",
            "5 0 0.9820169252468265\n",
            "5 1 0.9858599145018087\n",
            "5 2 0.9729349736379613\n",
            "5 3 0.9504847645429363\n",
            "5 4 0.9865056818181818\n",
            "5 5 1.0\n",
            "5 6 0.9675485008818342\n",
            "5 7 0.9869952087611226\n",
            "5 8 0.9528034066713982\n",
            "5 9 0.9848751319029194\n",
            "6 0 0.9858156028368794\n",
            "6 1 0.9933649289099526\n",
            "6 2 0.9814752441899629\n",
            "6 3 0.9873879853966147\n",
            "6 4 0.9891156462585035\n",
            "6 5 0.9756613756613757\n",
            "6 6 1.0\n",
            "6 7 0.9963887065003283\n",
            "6 8 0.9864084267753993\n",
            "6 9 0.9949443882709808\n",
            "7 0 0.9924515917295701\n",
            "7 1 0.990159901599016\n",
            "7 2 0.9823298429319371\n",
            "7 3 0.9819296547273314\n",
            "7 4 0.9844730756524612\n",
            "7 5 0.9880219028062971\n",
            "7 6 0.9973736047275115\n",
            "7 7 1.0\n",
            "7 8 0.9881148894024431\n",
            "7 9 0.9531761624099542\n",
            "8 0 0.9867527173913043\n",
            "8 1 0.9622102254684026\n",
            "8 2 0.9678293261090416\n",
            "8 3 0.9579439252336449\n",
            "8 4 0.9897400820793434\n",
            "8 5 0.9513839602555003\n",
            "8 6 0.981651376146789\n",
            "8 7 0.9844833278309674\n",
            "8 8 1.0\n",
            "8 9 0.9735593220338983\n",
            "9 0 0.9925876010781671\n",
            "9 1 0.9940119760479041\n",
            "9 2 0.9838763856231105\n",
            "9 3 0.9745033112582782\n",
            "9 4 0.9684531886024423\n",
            "9 5 0.9848751319029194\n",
            "9 6 0.9942703067071116\n",
            "9 7 0.9544859201047806\n",
            "9 8 0.9725423728813559\n",
            "9 9 1.0\n"
          ]
        }
      ]
    },
    {
      "cell_type": "code",
      "source": [
        "#(i) SVM and DTC on all 10 digits\n",
        "\n",
        "x_train_all, x_test_all, y_train_all, y_test_all = train_test_split(dataset.T, labels)\n",
        "\n",
        "svm = SVC(probability=False)\n",
        "dtc = DecisionTreeClassifier()\n",
        "\n",
        "test_svm=svm.fit(x_train_all, y_train_all)\n",
        "test_labels_svm = test_svm.predict(x_test_all)\n",
        "svm.ac=accuracy_score(y_test_all,test_labels_svm)\n",
        "print(svm.ac)\n",
        "\n",
        "\n",
        "test_dtc=dtc.fit(x_train_all, y_train_all)\n",
        "test_labels_dtc = test_dtc.predict(x_test_all)\n",
        "dtc.ac=accuracy_score(y_test_all,test_labels_dtc)\n",
        "print(dtc.ac)"
      ],
      "metadata": {
        "colab": {
          "base_uri": "https://localhost:8080/"
        },
        "id": "-XubKJbVXnV9",
        "outputId": "ccca3359-0de4-47f6-d79d-2c84362831ad"
      },
      "execution_count": 12,
      "outputs": [
        {
          "output_type": "stream",
          "name": "stdout",
          "text": [
            "0.9784666666666667\n",
            "0.8653333333333333\n"
          ]
        }
      ]
    },
    {
      "cell_type": "code",
      "source": [
        "#(j) on hardest digits\n",
        "two_d= (labels==3)+(labels==5)\n",
        "two_d_x, two_d_y = dataset[:,two_d], labels[two_d]\n",
        "x_train, x_test, y_train, y_test = train_test_split(two_d_x.T, two_d_y)\n",
        "\n",
        "LDA1 = LDA.fit(x_train, y_train)\n",
        "test_labels = LDA.predict(x_test)\n",
        "LDA.ac = accuracy_score(y_test,test_labels)\n",
        "print(LDA.ac)\n",
        "\n",
        "test_svm=svm.fit(x_train, y_train)\n",
        "test_labels_svm = test_svm.predict(x_test)\n",
        "svm.ac=accuracy_score(y_test,test_labels_svm)\n",
        "print(svm.ac)\n",
        "\n",
        "test_dtc=dtc.fit(x_train, y_train)\n",
        "test_labels_dtc = test_dtc.predict(x_test)\n",
        "dtc.ac=accuracy_score(y_test,test_labels_dtc)\n",
        "print(dtc.ac)"
      ],
      "metadata": {
        "colab": {
          "base_uri": "https://localhost:8080/"
        },
        "id": "o0zNMNkKXpaP",
        "outputId": "3be28357-20cf-4341-b79b-615333a46627"
      },
      "execution_count": 13,
      "outputs": [
        {
          "output_type": "stream",
          "name": "stdout",
          "text": [
            "0.9490997229916898\n",
            "0.9906509695290858\n",
            "0.9463296398891967\n"
          ]
        }
      ]
    },
    {
      "cell_type": "code",
      "source": [
        "#(j) on easiest digits\n",
        "two_d= (labels==6)+(labels==7)\n",
        "two_d_x, two_d_y = dataset[:,two_d], labels[two_d]\n",
        "x_train, x_test, y_train, y_test = train_test_split(two_d_x.T, two_d_y)\n",
        "\n",
        "LDA1 = LDA.fit(x_train, y_train)\n",
        "test_labels = LDA.predict(x_test)\n",
        "LDA.ac = accuracy_score(y_test,test_labels)\n",
        "print(LDA.ac)\n",
        "\n",
        "test_svm=svm.fit(x_train, y_train)\n",
        "test_labels_svm = test_svm.predict(x_test)\n",
        "svm.ac=accuracy_score(y_test,test_labels_svm)\n",
        "print(svm.ac)\n",
        "\n",
        "test_dtc=dtc.fit(x_train, y_train)\n",
        "test_labels_dtc = test_dtc.predict(x_test)\n",
        "dtc.ac=accuracy_score(y_test,test_labels_dtc)\n",
        "print(dtc.ac)                                                  "
      ],
      "metadata": {
        "colab": {
          "base_uri": "https://localhost:8080/"
        },
        "id": "pCStH-vAXuze",
        "outputId": "70a42d6c-0675-4b9d-d7a2-270c3e417d98"
      },
      "execution_count": 16,
      "outputs": [
        {
          "output_type": "stream",
          "name": "stdout",
          "text": [
            "0.9957321076822062\n",
            "0.5082074852265266\n",
            "0.5091923834537098\n"
          ]
        }
      ]
    }
  ]
}