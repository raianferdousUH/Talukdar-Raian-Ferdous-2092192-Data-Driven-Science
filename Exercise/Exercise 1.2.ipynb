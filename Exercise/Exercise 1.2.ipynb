{
 "cells": [
  {
   "cell_type": "code",
   "execution_count": 1,
   "id": "cd53b5fe",
   "metadata": {},
   "outputs": [],
   "source": [
    "from matplotlib.image import imread\n",
    "import matplotlib.pyplot as plt\n",
    "import numpy as np\n",
    "import os"
   ]
  },
  {
   "cell_type": "code",
   "execution_count": 2,
   "id": "59c72d1b",
   "metadata": {},
   "outputs": [
    {
     "name": "stdout",
     "output_type": "stream",
     "text": [
      "(2000, 1500)\n"
     ]
    }
   ],
   "source": [
    "# Load the image and grayscale conversion\n",
    "#A = imread(os.path.join('..','DATA','dog.jpg')) #to run from github\n",
    "A = imread('dog.jpg')\n",
    "X = np.mean(A, -1); # Convert RGB to grayscale\n",
    "print(X.shape)"
   ]
  },
  {
   "cell_type": "code",
   "execution_count": 3,
   "id": "65dc3259",
   "metadata": {},
   "outputs": [
    {
     "data": {
      "text/plain": [
       "(2000, 1500)"
      ]
     },
     "execution_count": 3,
     "metadata": {},
     "output_type": "execute_result"
    }
   ],
   "source": [
    "# Taking the Economy SVD of the image\n",
    "U, S, VT = np.linalg.svd(X,full_matrices=False)\n",
    "S = np.diag(S)\n",
    "U.shape"
   ]
  },
  {
   "cell_type": "code",
   "execution_count": 11,
   "id": "0bac22fe",
   "metadata": {},
   "outputs": [
    {
     "name": "stdout",
     "output_type": "stream",
     "text": [
      "0.12234347696916124 0.014967926356903688\n",
      "0.07799368639404565 0.006083015117332741\n",
      "0.03691971485030717 0.0013630653446279918\n"
     ]
    }
   ],
   "source": [
    "for r in (10, 25, 100):\n",
    "    # Construct approximate image\n",
    "    X_approx = U[:,:r] @ S[0:r,:r] @ VT[:r,:] \n",
    "    #frobenius norm\n",
    "    e = np.linalg.norm(X-X_approx, 'fro')/ np.linalg.norm(X, 'fro')\n",
    "    #square the error\n",
    "    variance=e*e\n",
    "    print(e,variance)"
   ]
  },
  {
   "cell_type": "code",
   "execution_count": 12,
   "id": "ffa6d156",
   "metadata": {},
   "outputs": [],
   "source": [
    "def error(r):\n",
    "    Xr = U[:,:r] @ S[0:r,:r] @ VT[:r,:]\n",
    "    e = np.linalg.norm(X-Xr, 'fro')/ np.linalg.norm(X, 'fro')\n",
    "    variance = e*e\n",
    "    return(e,variance)"
   ]
  },
  {
   "cell_type": "code",
   "execution_count": 14,
   "id": "4559eb4c",
   "metadata": {},
   "outputs": [],
   "source": [
    "Error=[]\n",
    "var=[]\n",
    "cummulative_sum=[]\n",
    "r_values=[]\n",
    "\n",
    "for i in range(1, 1500, 5):\n",
    "    e,variance=error(i)\n",
    "    Error.append(1-e)\n",
    "    var.append(1-variance)\n",
    "    cumsum.append(np.cumsum(np.diag(S))[i-1]/np.sum(np.diag(S)))\n",
    "    r_values.append(i)"
   ]
  },
  {
   "cell_type": "code",
   "execution_count": 10,
   "id": "c8e235ec",
   "metadata": {},
   "outputs": [
    {
     "data": {
      "text/plain": [
       "[<matplotlib.lines.Line2D at 0x7f9310046b20>]"
      ]
     },
     "execution_count": 10,
     "metadata": {},
     "output_type": "execute_result"
    },
    {
     "data": {
      "image/png": "[encoded data removed]",
      "text/plain": [
       "<Figure size 432x288 with 1 Axes>"
      ]
     },
     "metadata": {
      "needs_background": "light"
     },
     "output_type": "display_data"
    }
   ],
   "source": [
    "plt.plot(r_values, Error)\n",
    "plt.plot(r_values, var)\n",
    "plt.plot(r_values, cummulative_sum)"
   ]
  },
  {
   "cell_type": "code",
   "execution_count": null,
   "id": "091b8f23",
   "metadata": {},
   "outputs": [],
   "source": []
  }
 ],
 "metadata": {
  "kernelspec": {
   "display_name": "Python 3",
   "language": "python",
   "name": "python3"
  },
  "language_info": {
   "codemirror_mode": {
    "name": "ipython",
    "version": 3
   },
   "file_extension": ".py",
   "mimetype": "text/x-python",
   "name": "python",
   "nbconvert_exporter": "python",
   "pygments_lexer": "ipython3",
   "version": "3.8.8"
  }
 },
 "nbformat": 4,
 "nbformat_minor": 5
}
